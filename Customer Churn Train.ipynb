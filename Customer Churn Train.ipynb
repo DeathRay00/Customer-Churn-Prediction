{
 "cells": [
  {
   "cell_type": "code",
   "execution_count": 1,
   "id": "a1989b84",
   "metadata": {},
   "outputs": [],
   "source": [
    "import pandas as pd\n",
    "import numpy as np\n",
    "from sklearn.model_selection import train_test_split\n",
    "from sklearn.ensemble import RandomForestClassifier\n",
    "from sklearn.preprocessing import LabelEncoder, StandardScaler\n",
    "from sklearn.metrics import classification_report, confusion_matrix, accuracy_score\n",
    "from imblearn.over_sampling import SMOTE\n",
    "import joblib\n",
    "import warnings\n",
    "warnings.filterwarnings('ignore')"
   ]
  },
  {
   "cell_type": "markdown",
   "id": "60157417",
   "metadata": {},
   "source": [
    "Loading dataset"
   ]
  },
  {
   "cell_type": "code",
   "execution_count": null,
   "id": "a36a0ed0",
   "metadata": {},
   "outputs": [
    {
     "name": "stdout",
     "output_type": "stream",
     "text": [
      "Dataset shape: (6007, 32)\n",
      "Columns: {df.columns.tolist()}\n"
     ]
    },
    {
     "data": {
      "text/html": [
       "<div>\n",
       "<style scoped>\n",
       "    .dataframe tbody tr th:only-of-type {\n",
       "        vertical-align: middle;\n",
       "    }\n",
       "\n",
       "    .dataframe tbody tr th {\n",
       "        vertical-align: top;\n",
       "    }\n",
       "\n",
       "    .dataframe thead th {\n",
       "        text-align: right;\n",
       "    }\n",
       "</style>\n",
       "<table border=\"1\" class=\"dataframe\">\n",
       "  <thead>\n",
       "    <tr style=\"text-align: right;\">\n",
       "      <th></th>\n",
       "      <th>Customer_ID</th>\n",
       "      <th>Gender</th>\n",
       "      <th>Age</th>\n",
       "      <th>Married</th>\n",
       "      <th>State</th>\n",
       "      <th>Number_of_Referrals</th>\n",
       "      <th>Tenure_in_Months</th>\n",
       "      <th>Value_Deal</th>\n",
       "      <th>Phone_Service</th>\n",
       "      <th>Multiple_Lines</th>\n",
       "      <th>...</th>\n",
       "      <th>Payment_Method</th>\n",
       "      <th>Monthly_Charge</th>\n",
       "      <th>Total_Charges</th>\n",
       "      <th>Total_Refunds</th>\n",
       "      <th>Total_Extra_Data_Charges</th>\n",
       "      <th>Total_Long_Distance_Charges</th>\n",
       "      <th>Total_Revenue</th>\n",
       "      <th>Customer_Status</th>\n",
       "      <th>Churn_Category</th>\n",
       "      <th>Churn_Reason</th>\n",
       "    </tr>\n",
       "  </thead>\n",
       "  <tbody>\n",
       "    <tr>\n",
       "      <th>0</th>\n",
       "      <td>11098-MAD</td>\n",
       "      <td>Female</td>\n",
       "      <td>30</td>\n",
       "      <td>Yes</td>\n",
       "      <td>Madhya Pradesh</td>\n",
       "      <td>0</td>\n",
       "      <td>31</td>\n",
       "      <td>Deal 1</td>\n",
       "      <td>Yes</td>\n",
       "      <td>No</td>\n",
       "      <td>...</td>\n",
       "      <td>Bank Withdrawal</td>\n",
       "      <td>95.099998</td>\n",
       "      <td>6683.399902</td>\n",
       "      <td>0.00</td>\n",
       "      <td>0</td>\n",
       "      <td>631.719971</td>\n",
       "      <td>7315.120117</td>\n",
       "      <td>Stayed</td>\n",
       "      <td>Others</td>\n",
       "      <td>Others</td>\n",
       "    </tr>\n",
       "    <tr>\n",
       "      <th>1</th>\n",
       "      <td>11114-PUN</td>\n",
       "      <td>Male</td>\n",
       "      <td>51</td>\n",
       "      <td>No</td>\n",
       "      <td>Punjab</td>\n",
       "      <td>5</td>\n",
       "      <td>9</td>\n",
       "      <td>Deal 5</td>\n",
       "      <td>Yes</td>\n",
       "      <td>No</td>\n",
       "      <td>...</td>\n",
       "      <td>Bank Withdrawal</td>\n",
       "      <td>49.150002</td>\n",
       "      <td>169.050003</td>\n",
       "      <td>0.00</td>\n",
       "      <td>10</td>\n",
       "      <td>122.370003</td>\n",
       "      <td>301.420013</td>\n",
       "      <td>Churned</td>\n",
       "      <td>Competitor</td>\n",
       "      <td>Competitor had better devices</td>\n",
       "    </tr>\n",
       "    <tr>\n",
       "      <th>2</th>\n",
       "      <td>11167-WES</td>\n",
       "      <td>Female</td>\n",
       "      <td>43</td>\n",
       "      <td>Yes</td>\n",
       "      <td>West Bengal</td>\n",
       "      <td>3</td>\n",
       "      <td>28</td>\n",
       "      <td>Deal 1</td>\n",
       "      <td>Yes</td>\n",
       "      <td>Yes</td>\n",
       "      <td>...</td>\n",
       "      <td>Bank Withdrawal</td>\n",
       "      <td>116.050003</td>\n",
       "      <td>8297.500000</td>\n",
       "      <td>42.57</td>\n",
       "      <td>110</td>\n",
       "      <td>1872.979980</td>\n",
       "      <td>10237.910160</td>\n",
       "      <td>Stayed</td>\n",
       "      <td>Others</td>\n",
       "      <td>Others</td>\n",
       "    </tr>\n",
       "    <tr>\n",
       "      <th>3</th>\n",
       "      <td>11179-MAH</td>\n",
       "      <td>Male</td>\n",
       "      <td>35</td>\n",
       "      <td>No</td>\n",
       "      <td>Maharashtra</td>\n",
       "      <td>10</td>\n",
       "      <td>12</td>\n",
       "      <td>NaN</td>\n",
       "      <td>Yes</td>\n",
       "      <td>No</td>\n",
       "      <td>...</td>\n",
       "      <td>Credit Card</td>\n",
       "      <td>84.400002</td>\n",
       "      <td>5969.299805</td>\n",
       "      <td>0.00</td>\n",
       "      <td>0</td>\n",
       "      <td>219.389999</td>\n",
       "      <td>6188.689941</td>\n",
       "      <td>Stayed</td>\n",
       "      <td>Others</td>\n",
       "      <td>Others</td>\n",
       "    </tr>\n",
       "    <tr>\n",
       "      <th>4</th>\n",
       "      <td>11180-TAM</td>\n",
       "      <td>Male</td>\n",
       "      <td>75</td>\n",
       "      <td>Yes</td>\n",
       "      <td>Tamil Nadu</td>\n",
       "      <td>12</td>\n",
       "      <td>27</td>\n",
       "      <td>Deal 2</td>\n",
       "      <td>Yes</td>\n",
       "      <td>No</td>\n",
       "      <td>...</td>\n",
       "      <td>Credit Card</td>\n",
       "      <td>72.599998</td>\n",
       "      <td>4084.350098</td>\n",
       "      <td>0.00</td>\n",
       "      <td>140</td>\n",
       "      <td>332.079987</td>\n",
       "      <td>4556.430176</td>\n",
       "      <td>Stayed</td>\n",
       "      <td>Others</td>\n",
       "      <td>Others</td>\n",
       "    </tr>\n",
       "  </tbody>\n",
       "</table>\n",
       "<p>5 rows × 32 columns</p>\n",
       "</div>"
      ],
      "text/plain": [
       "  Customer_ID  Gender  Age Married           State  Number_of_Referrals  \\\n",
       "0   11098-MAD  Female   30     Yes  Madhya Pradesh                    0   \n",
       "1   11114-PUN    Male   51      No          Punjab                    5   \n",
       "2   11167-WES  Female   43     Yes     West Bengal                    3   \n",
       "3   11179-MAH    Male   35      No     Maharashtra                   10   \n",
       "4   11180-TAM    Male   75     Yes      Tamil Nadu                   12   \n",
       "\n",
       "   Tenure_in_Months Value_Deal Phone_Service Multiple_Lines  ...  \\\n",
       "0                31     Deal 1           Yes             No  ...   \n",
       "1                 9     Deal 5           Yes             No  ...   \n",
       "2                28     Deal 1           Yes            Yes  ...   \n",
       "3                12        NaN           Yes             No  ...   \n",
       "4                27     Deal 2           Yes             No  ...   \n",
       "\n",
       "    Payment_Method Monthly_Charge Total_Charges Total_Refunds  \\\n",
       "0  Bank Withdrawal      95.099998   6683.399902          0.00   \n",
       "1  Bank Withdrawal      49.150002    169.050003          0.00   \n",
       "2  Bank Withdrawal     116.050003   8297.500000         42.57   \n",
       "3      Credit Card      84.400002   5969.299805          0.00   \n",
       "4      Credit Card      72.599998   4084.350098          0.00   \n",
       "\n",
       "  Total_Extra_Data_Charges Total_Long_Distance_Charges Total_Revenue  \\\n",
       "0                        0                  631.719971   7315.120117   \n",
       "1                       10                  122.370003    301.420013   \n",
       "2                      110                 1872.979980  10237.910160   \n",
       "3                        0                  219.389999   6188.689941   \n",
       "4                      140                  332.079987   4556.430176   \n",
       "\n",
       "  Customer_Status Churn_Category                   Churn_Reason  \n",
       "0          Stayed         Others                         Others  \n",
       "1         Churned     Competitor  Competitor had better devices  \n",
       "2          Stayed         Others                         Others  \n",
       "3          Stayed         Others                         Others  \n",
       "4          Stayed         Others                         Others  \n",
       "\n",
       "[5 rows x 32 columns]"
      ]
     },
     "execution_count": 2,
     "metadata": {},
     "output_type": "execute_result"
    }
   ],
   "source": [
    "df = pd.read_csv('PredictionData.csv')\n",
    "print(f\"Dataset shape: {df.shape}\")\n",
    "print(f\"Columns: {df.columns.tolist()}\")\n",
    "df.head()"
   ]
  },
  {
   "cell_type": "markdown",
   "id": "349856b1",
   "metadata": {},
   "source": [
    "Checking Data"
   ]
  },
  {
   "cell_type": "code",
   "execution_count": 4,
   "id": "bc7e5f5a",
   "metadata": {},
   "outputs": [
    {
     "name": "stdout",
     "output_type": "stream",
     "text": [
      "Dataset Info:\n",
      "<class 'pandas.core.frame.DataFrame'>\n",
      "RangeIndex: 6007 entries, 0 to 6006\n",
      "Data columns (total 32 columns):\n",
      " #   Column                       Non-Null Count  Dtype  \n",
      "---  ------                       --------------  -----  \n",
      " 0   Customer_ID                  6007 non-null   object \n",
      " 1   Gender                       6007 non-null   object \n",
      " 2   Age                          6007 non-null   int64  \n",
      " 3   Married                      6007 non-null   object \n",
      " 4   State                        6007 non-null   object \n",
      " 5   Number_of_Referrals          6007 non-null   int64  \n",
      " 6   Tenure_in_Months             6007 non-null   int64  \n",
      " 7   Value_Deal                   2710 non-null   object \n",
      " 8   Phone_Service                6007 non-null   object \n",
      " 9   Multiple_Lines               6007 non-null   object \n",
      " 10  Internet_Service             6007 non-null   object \n",
      " 11  Internet_Type                4784 non-null   object \n",
      " 12  Online_Security              6007 non-null   object \n",
      " 13  Online_Backup                6007 non-null   object \n",
      " 14  Device_Protection_Plan       6007 non-null   object \n",
      " 15  Premium_Support              6007 non-null   object \n",
      " 16  Streaming_TV                 6007 non-null   object \n",
      " 17  Streaming_Movies             6007 non-null   object \n",
      " 18  Streaming_Music              6007 non-null   object \n",
      " 19  Unlimited_Data               6007 non-null   object \n",
      " 20  Contract                     6007 non-null   object \n",
      " 21  Paperless_Billing            6007 non-null   object \n",
      " 22  Payment_Method               6007 non-null   object \n",
      " 23  Monthly_Charge               6007 non-null   float64\n",
      " 24  Total_Charges                6007 non-null   float64\n",
      " 25  Total_Refunds                6007 non-null   float64\n",
      " 26  Total_Extra_Data_Charges     6007 non-null   int64  \n",
      " 27  Total_Long_Distance_Charges  6007 non-null   float64\n",
      " 28  Total_Revenue                6007 non-null   float64\n",
      " 29  Customer_Status              6007 non-null   object \n",
      " 30  Churn_Category               6007 non-null   object \n",
      " 31  Churn_Reason                 6007 non-null   object \n",
      "dtypes: float64(5), int64(4), object(23)\n",
      "memory usage: 1.5+ MB\n",
      "None\n",
      "\n",
      "Missing values:\n",
      "Customer_ID                       0\n",
      "Gender                            0\n",
      "Age                               0\n",
      "Married                           0\n",
      "State                             0\n",
      "Number_of_Referrals               0\n",
      "Tenure_in_Months                  0\n",
      "Value_Deal                     3297\n",
      "Phone_Service                     0\n",
      "Multiple_Lines                    0\n",
      "Internet_Service                  0\n",
      "Internet_Type                  1223\n",
      "Online_Security                   0\n",
      "Online_Backup                     0\n",
      "Device_Protection_Plan            0\n",
      "Premium_Support                   0\n",
      "Streaming_TV                      0\n",
      "Streaming_Movies                  0\n",
      "Streaming_Music                   0\n",
      "Unlimited_Data                    0\n",
      "Contract                          0\n",
      "Paperless_Billing                 0\n",
      "Payment_Method                    0\n",
      "Monthly_Charge                    0\n",
      "Total_Charges                     0\n",
      "Total_Refunds                     0\n",
      "Total_Extra_Data_Charges          0\n",
      "Total_Long_Distance_Charges       0\n",
      "Total_Revenue                     0\n",
      "Customer_Status                   0\n",
      "Churn_Category                    0\n",
      "Churn_Reason                      0\n",
      "dtype: int64\n",
      "\n",
      "Customer Status distribution:\n",
      "Customer_Status\n",
      "Stayed     4275\n",
      "Churned    1732\n",
      "Name: count, dtype: int64\n"
     ]
    }
   ],
   "source": [
    "print(\"Dataset Info:\")\n",
    "print(df.info())\n",
    "print(\"\\nMissing values:\")\n",
    "print(df.isnull().sum())\n",
    "print(\"\\nCustomer Status distribution:\")\n",
    "print(df['Customer_Status'].value_counts())\n"
   ]
  },
  {
   "cell_type": "markdown",
   "id": "4e0cbbea",
   "metadata": {},
   "source": [
    "Handling Values"
   ]
  },
  {
   "cell_type": "code",
   "execution_count": 5,
   "id": "30870e4d",
   "metadata": {},
   "outputs": [],
   "source": [
    "def load_and_preprocess_data():\n",
    "    # Create binary target variable (1 for Churned, 0 for Stayed)\n",
    "    df['Churn'] = (df['Customer_Status'] == 'Churned').astype(int)\n",
    "    \n",
    "    # Select relevant features for modeling\n",
    "    feature_columns = [\n",
    "        'Gender', 'Age', 'Married', 'Number_of_Referrals', 'Tenure_in_Months',\n",
    "        'Phone_Service', 'Multiple_Lines', 'Internet_Service', 'Internet_Type',\n",
    "        'Online_Security', 'Online_Backup', 'Device_Protection_Plan', 'Premium_Support',\n",
    "        'Streaming_TV', 'Streaming_Movies', 'Streaming_Music', 'Unlimited_Data',\n",
    "        'Contract', 'Paperless_Billing', 'Payment_Method', 'Monthly_Charge',\n",
    "        'Total_Charges', 'Total_Refunds', 'Total_Extra_Data_Charges',\n",
    "        'Total_Long_Distance_Charges', 'Total_Revenue'\n",
    "    ]\n",
    "    \n",
    "    # Create feature matrix\n",
    "    X = df[feature_columns].copy()\n",
    "    y = df['Churn']\n",
    "    \n",
    "    # Handle categorical variables\n",
    "    categorical_columns = X.select_dtypes(include=['object']).columns\n",
    "    label_encoders = {}\n",
    "    \n",
    "    for col in categorical_columns:\n",
    "        le = LabelEncoder()\n",
    "        X[col] = le.fit_transform(X[col].astype(str))\n",
    "        label_encoders[col] = le\n",
    "    \n",
    "    # Handle missing values\n",
    "    X = X.fillna(X.median())\n",
    "    \n",
    "    return X, y, label_encoders, feature_columns\n"
   ]
  },
  {
   "cell_type": "markdown",
   "id": "c4088c62",
   "metadata": {},
   "source": [
    "Preprocess the data"
   ]
  },
  {
   "cell_type": "code",
   "execution_count": 6,
   "id": "b6efeee8",
   "metadata": {},
   "outputs": [
    {
     "name": "stdout",
     "output_type": "stream",
     "text": [
      "Feature matrix shape: (6007, 26)\n",
      "Target variable shape: (6007,)\n",
      "Target distribution:\n",
      "Churn\n",
      "0    4275\n",
      "1    1732\n",
      "Name: count, dtype: int64\n"
     ]
    }
   ],
   "source": [
    "X, y, label_encoders, feature_columns = load_and_preprocess_data()\n",
    "print(f\"Feature matrix shape: {X.shape}\")\n",
    "print(f\"Target variable shape: {y.shape}\")\n",
    "print(f\"Target distribution:\\n{y.value_counts()}\")\n"
   ]
  },
  {
   "cell_type": "markdown",
   "id": "478a3d67",
   "metadata": {},
   "source": [
    "Splitting the data"
   ]
  },
  {
   "cell_type": "code",
   "execution_count": 7,
   "id": "e42cb4ac",
   "metadata": {},
   "outputs": [
    {
     "name": "stdout",
     "output_type": "stream",
     "text": [
      "Training set shape: (4805, 26)\n",
      "Test set shape: (1202, 26)\n",
      "Training target distribution:\n",
      "Churn\n",
      "0    3420\n",
      "1    1385\n",
      "Name: count, dtype: int64\n"
     ]
    }
   ],
   "source": [
    "X_train, X_test, y_train, y_test = train_test_split(\n",
    "    X, y, test_size=0.2, random_state=42, stratify=y\n",
    ")\n",
    "\n",
    "print(f\"Training set shape: {X_train.shape}\")\n",
    "print(f\"Test set shape: {X_test.shape}\")\n",
    "print(f\"Training target distribution:\\n{y_train.value_counts()}\")\n"
   ]
  },
  {
   "cell_type": "markdown",
   "id": "8e4be187",
   "metadata": {},
   "source": [
    "Smote for handling class imbalance "
   ]
  },
  {
   "cell_type": "code",
   "execution_count": 8,
   "id": "304b65c7",
   "metadata": {},
   "outputs": [
    {
     "name": "stdout",
     "output_type": "stream",
     "text": [
      "Original training set shape: (4805, 26)\n",
      "SMOTE training set shape: (6840, 26)\n",
      "Original target distribution:\n",
      "Churn\n",
      "0    3420\n",
      "1    1385\n",
      "Name: count, dtype: int64\n",
      "SMOTE target distribution:\n",
      "Churn\n",
      "0    3420\n",
      "1    3420\n",
      "Name: count, dtype: int64\n"
     ]
    }
   ],
   "source": [
    "smote = SMOTE(random_state=42)\n",
    "X_train_smote, y_train_smote = smote.fit_resample(X_train, y_train)\n",
    "\n",
    "print(f\"Original training set shape: {X_train.shape}\")\n",
    "print(f\"SMOTE training set shape: {X_train_smote.shape}\")\n",
    "print(f\"Original target distribution:\\n{y_train.value_counts()}\")\n",
    "print(f\"SMOTE target distribution:\\n{pd.Series(y_train_smote).value_counts()}\")\n"
   ]
  },
  {
   "cell_type": "markdown",
   "id": "b2ace051",
   "metadata": {},
   "source": [
    "Scaling features"
   ]
  },
  {
   "cell_type": "code",
   "execution_count": 9,
   "id": "44fdbbdf",
   "metadata": {},
   "outputs": [
    {
     "name": "stdout",
     "output_type": "stream",
     "text": [
      "Scaled training set shape: (6840, 26)\n",
      "Scaled test set shape: (1202, 26)\n"
     ]
    }
   ],
   "source": [
    "scaler = StandardScaler()\n",
    "X_train_scaled = scaler.fit_transform(X_train_smote)\n",
    "X_test_scaled = scaler.transform(X_test)\n",
    "\n",
    "print(f\"Scaled training set shape: {X_train_scaled.shape}\")\n",
    "print(f\"Scaled test set shape: {X_test_scaled.shape}\")\n"
   ]
  },
  {
   "cell_type": "markdown",
   "id": "912e35e7",
   "metadata": {},
   "source": [
    "Training Model"
   ]
  },
  {
   "cell_type": "code",
   "execution_count": null,
   "id": "a1a4d8ed",
   "metadata": {},
   "outputs": [
    {
     "name": "stdout",
     "output_type": "stream",
     "text": [
      "Model training completed!\n"
     ]
    }
   ],
   "source": [
    "rf_model = RandomForestClassifier(\n",
    "    n_estimators=100,\n",
    "    max_depth=10,\n",
    "    min_samples_split=10,\n",
    "    min_samples_leaf=2,\n",
    "    random_state=42,\n",
    "    class_weight='balanced'\n",
    ")\n",
    "\n",
    "rf_model.fit(X_train_scaled, y_train_smote)\n",
    "print(\"Model training completed!\")\n"
   ]
  },
  {
   "cell_type": "markdown",
   "id": "4dffcb49",
   "metadata": {},
   "source": [
    "Model Performance"
   ]
  },
  {
   "cell_type": "code",
   "execution_count": 26,
   "id": "03ef02e9",
   "metadata": {},
   "outputs": [
    {
     "name": "stdout",
     "output_type": "stream",
     "text": [
      "Model Performance:\n",
      "Accuracy: 83.1947%\n",
      "\n",
      "Classification Report:\n",
      "              precision    recall  f1-score   support\n",
      "\n",
      "           0       0.89      0.87      0.88       855\n",
      "           1       0.70      0.73      0.71       347\n",
      "\n",
      "    accuracy                           0.83      1202\n",
      "   macro avg       0.79      0.80      0.80      1202\n",
      "weighted avg       0.83      0.83      0.83      1202\n",
      "\n",
      "\n",
      "Confusion Matrix:\n",
      "[[747 108]\n",
      " [ 94 253]]\n"
     ]
    }
   ],
   "source": [
    "y_pred = rf_model.predict(X_test_scaled)\n",
    "y_pred_proba = rf_model.predict_proba(X_test_scaled)\n",
    "\n",
    "print(\"Model Performance:\")\n",
    "print(f\"Accuracy: {(accuracy_score(y_test, y_pred))*100:.4f}%\")\n",
    "print(\"\\nClassification Report:\")\n",
    "print(classification_report(y_test, y_pred))\n",
    "print(\"\\nConfusion Matrix:\")\n",
    "print(confusion_matrix(y_test, y_pred))\n"
   ]
  },
  {
   "cell_type": "markdown",
   "id": "cfd98ca2",
   "metadata": {},
   "source": [
    "Feature importance"
   ]
  },
  {
   "cell_type": "code",
   "execution_count": null,
   "id": "55c5af00",
   "metadata": {},
   "outputs": [
    {
     "name": "stdout",
     "output_type": "stream",
     "text": [
      "Top 10 Important Features:\n",
      "                        feature  importance\n",
      "17                     Contract    0.278397\n",
      "25                Total_Revenue    0.100331\n",
      "21                Total_Charges    0.098280\n",
      "20               Monthly_Charge    0.083888\n",
      "24  Total_Long_Distance_Charges    0.064477\n",
      "9               Online_Security    0.054112\n",
      "12              Premium_Support    0.048358\n",
      "8                 Internet_Type    0.045733\n",
      "19               Payment_Method    0.044964\n",
      "1                           Age    0.030628\n"
     ]
    },
    {
     "data": {
      "image/png": "[encoded data removed]",
      "text/plain": [
       "<Figure size 1000x600 with 1 Axes>"
      ]
     },
     "metadata": {},
     "output_type": "display_data"
    }
   ],
   "source": [
    "feature_importance = pd.DataFrame({\n",
    "    'feature': feature_columns,\n",
    "    'importance': rf_model.feature_importances_\n",
    "}).sort_values('importance', ascending=False)\n",
    "\n",
    "print(\"Top 10 Important Features:\")\n",
    "print(feature_importance.head(10))\n",
    "\n",
    "import matplotlib.pyplot as plt\n",
    "plt.figure(figsize=(10, 6))\n",
    "plt.barh(feature_importance.head(10)['feature'], feature_importance.head(10)['importance'])\n",
    "plt.xlabel('Importance')\n",
    "plt.title('Top 10 Feature Importance')\n",
    "plt.gca().invert_yaxis()\n",
    "plt.tight_layout()\n",
    "plt.show()\n"
   ]
  },
  {
   "cell_type": "markdown",
   "id": "bfa7738c",
   "metadata": {},
   "source": [
    "Saving models"
   ]
  },
  {
   "cell_type": "code",
   "execution_count": null,
   "id": "e9afbbd5",
   "metadata": {},
   "outputs": [
    {
     "data": {
      "text/plain": [
       "['feature_columns.pkl']"
      ]
     },
     "execution_count": 18,
     "metadata": {},
     "output_type": "execute_result"
    }
   ],
   "source": [
    "joblib.dump(rf_model, 'churn_model.pkl')\n",
    "joblib.dump(scaler, 'scaler.pkl')\n",
    "joblib.dump(label_encoders, 'label_encoders.pkl')\n",
    "joblib.dump(feature_columns, 'feature_columns.pkl')\n",
    "\n"
   ]
  },
  {
   "cell_type": "markdown",
   "id": "841d0634",
   "metadata": {},
   "source": [
    "Testing the model"
   ]
  },
  {
   "cell_type": "code",
   "execution_count": null,
   "id": "074ff473",
   "metadata": {},
   "outputs": [
    {
     "name": "stdout",
     "output_type": "stream",
     "text": [
      "Sample Prediction:\n",
      "Input data shape: (1, 26)\n",
      "Prediction: Stay\n",
      "Probability of Churn: 0.0162\n",
      "Probability of Stay: 0.9838\n"
     ]
    }
   ],
   "source": [
    "sample_data = X_test.iloc[0:1]  # Take first row from test set\n",
    "sample_scaled = scaler.transform(sample_data)\n",
    "prediction = rf_model.predict(sample_scaled)\n",
    "prediction_proba = rf_model.predict_proba(sample_scaled)\n",
    "\n",
    "print(\"Sample Prediction:\")\n",
    "print(f\"Input data shape: {sample_data.shape}\")\n",
    "print(f\"Prediction: {'Churn' if prediction[0] == 1 else 'Stay'}\")\n",
    "print(f\"Probability of Churn: {prediction_proba[0][1]:.4f}\")\n",
    "print(f\"Probability of Stay: {prediction_proba[0][0]:.4f}\")\n"
   ]
  },
  {
   "cell_type": "markdown",
   "id": "10383371",
   "metadata": {},
   "source": [
    "Making prediction on tatal dataset"
   ]
  },
  {
   "cell_type": "code",
   "execution_count": null,
   "id": "2d706cbe",
   "metadata": {},
   "outputs": [
    {
     "name": "stdout",
     "output_type": "stream",
     "text": [
      "Total customers: 6007\n",
      "Predicted churned customers: 1886\n",
      "Predicted churn rate: 31.40%\n"
     ]
    }
   ],
   "source": [
    "\n",
    "X_full_scaled = scaler.transform(X)\n",
    "full_predictions = rf_model.predict(X_full_scaled)\n",
    "full_predictions_proba = rf_model.predict_proba(X_full_scaled)\n",
    "\n",
    "df_with_predictions = df.copy()\n",
    "df_with_predictions['Predicted_Churn'] = full_predictions\n",
    "df_with_predictions['Churn_Probability'] = full_predictions_proba[:, 1]\n",
    "\n",
    "print(f\"Total customers: {len(df_with_predictions)}\")\n",
    "print(f\"Predicted churned customers: {sum(full_predictions)}\")\n",
    "print(f\"Predicted churn rate: {(sum(full_predictions)/len(df_with_predictions))*100:.2f}%\")"
   ]
  },
  {
   "cell_type": "markdown",
   "id": "f1649f2c",
   "metadata": {},
   "source": [
    "Saving new csv file for predicted data"
   ]
  },
  {
   "cell_type": "code",
   "execution_count": 23,
   "id": "c6c7f533",
   "metadata": {},
   "outputs": [
    {
     "name": "stdout",
     "output_type": "stream",
     "text": [
      "Number of customers predicted to churn: 1886\n",
      "Average churn probability: 0.784\n",
      "Predicted churned customers data saved to 'predicted_churned_customers.csv'\n",
      "\n",
      "Sample of Predicted Churned Customers:\n",
      "   Customer_ID  Age  Monthly_Charge  Tenure_in_Months  Churn_Probability  \\\n",
      "1    11114-PUN   51       49.150002                 9           0.918185   \n",
      "8    11262-HAR   73       95.099998                32           0.995994   \n",
      "10   11264-MAH   27       -4.000000                17           0.980707   \n",
      "11   11272-UTT   65       75.849998                19           0.966269   \n",
      "14   11290-JAM   70       95.449997                36           0.900276   \n",
      "26   11472-PUN   33       55.400002                 6           0.994407   \n",
      "27   11474-TEL   59       75.599998                18           0.512097   \n",
      "28   11510-KER   46       95.900002                 4           0.543161   \n",
      "30   11540-DEL   63      104.099998                15           0.543981   \n",
      "32   11543-WES   35       49.400002                 7           0.567100   \n",
      "\n",
      "   Customer_Status  \n",
      "1          Churned  \n",
      "8          Churned  \n",
      "10         Churned  \n",
      "11         Churned  \n",
      "14         Churned  \n",
      "26         Churned  \n",
      "27          Stayed  \n",
      "28          Stayed  \n",
      "30          Stayed  \n",
      "32         Churned  \n"
     ]
    }
   ],
   "source": [
    "# Filter customers predicted to churn\n",
    "predicted_churned_customers = df_with_predictions[df_with_predictions['Predicted_Churn'] == 1].copy()\n",
    "\n",
    "print(f\"Number of customers predicted to churn: {len(predicted_churned_customers)}\")\n",
    "print(f\"Average churn probability: {predicted_churned_customers['Churn_Probability'].mean():.3f}\")\n",
    "\n",
    "# Save predicted churned customers to CSV\n",
    "predicted_churned_customers.to_csv('predicted_churned_customers.csv', index=False)\n",
    "print(\"Predicted churned customers data saved to 'predicted_churned_customers.csv'\")\n",
    "\n",
    "# Display sample of predicted churned customers\n",
    "print(\"\\nSample of Predicted Churned Customers:\")\n",
    "print(predicted_churned_customers[['Customer_ID', 'Age', 'Monthly_Charge', 'Tenure_in_Months', \n",
    "                                   'Churn_Probability', 'Customer_Status']].head(10))"
   ]
  }
 ],
 "metadata": {
  "kernelspec": {
   "display_name": "Python 3",
   "language": "python",
   "name": "python3"
  },
  "language_info": {
   "codemirror_mode": {
    "name": "ipython",
    "version": 3
   },
   "file_extension": ".py",
   "mimetype": "text/x-python",
   "name": "python",
   "nbconvert_exporter": "python",
   "pygments_lexer": "ipython3",
   "version": "3.12.10"
  }
 },
 "nbformat": 4,
 "nbformat_minor": 5
}
